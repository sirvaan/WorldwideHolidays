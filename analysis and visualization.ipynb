{
 "metadata": {
  "language_info": {
   "codemirror_mode": {
    "name": "ipython",
    "version": 3
   },
   "file_extension": ".py",
   "mimetype": "text/x-python",
   "name": "python",
   "nbconvert_exporter": "python",
   "pygments_lexer": "ipython3",
   "version": "3.9.1-final"
  },
  "orig_nbformat": 2,
  "kernelspec": {
   "name": "python3",
   "display_name": "Python 3.9.1 64-bit",
   "metadata": {
    "interpreter": {
     "hash": "ffbcdb822afa260cbc80a26e9197882a070227f142f22f1140a33bdd3434f052"
    }
   }
  }
 },
 "nbformat": 4,
 "nbformat_minor": 2,
 "cells": [
  {
   "source": [
    "# header\n",
    "You can make text *italic* or **bold**.\n",
    "\n"
   ],
   "cell_type": "markdown",
   "metadata": {}
  },
  {
   "cell_type": "code",
   "execution_count": 1,
   "metadata": {},
   "outputs": [],
   "source": [
    "%matplotlib inline\n",
    "import pandas as pd"
   ]
  },
  {
   "source": [
    "Loading the csv file to a dataframe"
   ],
   "cell_type": "markdown",
   "metadata": {}
  },
  {
   "cell_type": "code",
   "execution_count": 2,
   "metadata": {},
   "outputs": [],
   "source": [
    "data = pd.read_csv (\"out.csv\")"
   ]
  },
  {
   "cell_type": "code",
   "execution_count": 3,
   "metadata": {},
   "outputs": [
    {
     "output_type": "execute_result",
     "data": {
      "text/plain": [
       "   id                                       name  \\\n",
       "0   1                              March Equinox   \n",
       "1   2                         Afghan Victory Day   \n",
       "2   3  Loya Jirga Gathering Holiday (Kabul Only)   \n",
       "3   4  Loya Jirga Gathering Holiday (Kabul Only)   \n",
       "4   5  Loya Jirga Gathering Holiday (Kabul Only)   \n",
       "\n",
       "                                         description country_code  \\\n",
       "0               March Equinox in Afghanistan (Kabul)           AF   \n",
       "1  Afghan Victory Day is a public holiday in Afgh...           AF   \n",
       "2  Loya Jirga Gathering Holiday (Kabul Only) is a...           AF   \n",
       "3  Loya Jirga Gathering Holiday (Kabul Only) is a...           AF   \n",
       "4  Loya Jirga Gathering Holiday (Kabul Only) is a...           AF   \n",
       "\n",
       "  country_name  year  month  day              type location country_code.1  \\\n",
       "0  Afghanistan  2019      3   21            Season      All             AF   \n",
       "1  Afghanistan  2019      4   28  National holiday      All             AF   \n",
       "2  Afghanistan  2019      4   29  National holiday      All             AF   \n",
       "3  Afghanistan  2019      4   30  National holiday      All             AF   \n",
       "4  Afghanistan  2019      5    1  National holiday      All             AF   \n",
       "\n",
       "  country_name.1  \n",
       "0    Afghanistan  \n",
       "1    Afghanistan  \n",
       "2    Afghanistan  \n",
       "3    Afghanistan  \n",
       "4    Afghanistan  "
      ],
      "text/html": "<div>\n<style scoped>\n    .dataframe tbody tr th:only-of-type {\n        vertical-align: middle;\n    }\n\n    .dataframe tbody tr th {\n        vertical-align: top;\n    }\n\n    .dataframe thead th {\n        text-align: right;\n    }\n</style>\n<table border=\"1\" class=\"dataframe\">\n  <thead>\n    <tr style=\"text-align: right;\">\n      <th></th>\n      <th>id</th>\n      <th>name</th>\n      <th>description</th>\n      <th>country_code</th>\n      <th>country_name</th>\n      <th>year</th>\n      <th>month</th>\n      <th>day</th>\n      <th>type</th>\n      <th>location</th>\n      <th>country_code.1</th>\n      <th>country_name.1</th>\n    </tr>\n  </thead>\n  <tbody>\n    <tr>\n      <th>0</th>\n      <td>1</td>\n      <td>March Equinox</td>\n      <td>March Equinox in Afghanistan (Kabul)</td>\n      <td>AF</td>\n      <td>Afghanistan</td>\n      <td>2019</td>\n      <td>3</td>\n      <td>21</td>\n      <td>Season</td>\n      <td>All</td>\n      <td>AF</td>\n      <td>Afghanistan</td>\n    </tr>\n    <tr>\n      <th>1</th>\n      <td>2</td>\n      <td>Afghan Victory Day</td>\n      <td>Afghan Victory Day is a public holiday in Afgh...</td>\n      <td>AF</td>\n      <td>Afghanistan</td>\n      <td>2019</td>\n      <td>4</td>\n      <td>28</td>\n      <td>National holiday</td>\n      <td>All</td>\n      <td>AF</td>\n      <td>Afghanistan</td>\n    </tr>\n    <tr>\n      <th>2</th>\n      <td>3</td>\n      <td>Loya Jirga Gathering Holiday (Kabul Only)</td>\n      <td>Loya Jirga Gathering Holiday (Kabul Only) is a...</td>\n      <td>AF</td>\n      <td>Afghanistan</td>\n      <td>2019</td>\n      <td>4</td>\n      <td>29</td>\n      <td>National holiday</td>\n      <td>All</td>\n      <td>AF</td>\n      <td>Afghanistan</td>\n    </tr>\n    <tr>\n      <th>3</th>\n      <td>4</td>\n      <td>Loya Jirga Gathering Holiday (Kabul Only)</td>\n      <td>Loya Jirga Gathering Holiday (Kabul Only) is a...</td>\n      <td>AF</td>\n      <td>Afghanistan</td>\n      <td>2019</td>\n      <td>4</td>\n      <td>30</td>\n      <td>National holiday</td>\n      <td>All</td>\n      <td>AF</td>\n      <td>Afghanistan</td>\n    </tr>\n    <tr>\n      <th>4</th>\n      <td>5</td>\n      <td>Loya Jirga Gathering Holiday (Kabul Only)</td>\n      <td>Loya Jirga Gathering Holiday (Kabul Only) is a...</td>\n      <td>AF</td>\n      <td>Afghanistan</td>\n      <td>2019</td>\n      <td>5</td>\n      <td>1</td>\n      <td>National holiday</td>\n      <td>All</td>\n      <td>AF</td>\n      <td>Afghanistan</td>\n    </tr>\n  </tbody>\n</table>\n</div>"
     },
     "metadata": {},
     "execution_count": 3
    }
   ],
   "source": [
    "data.head(5)"
   ]
  },
  {
   "cell_type": "code",
   "execution_count": null,
   "metadata": {},
   "outputs": [],
   "source": []
  }
 ]
}